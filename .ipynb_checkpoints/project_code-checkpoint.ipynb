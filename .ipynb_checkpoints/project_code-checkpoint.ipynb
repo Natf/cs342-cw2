{
 "cells": [
  {
   "cell_type": "code",
   "execution_count": 28,
   "metadata": {
    "collapsed": false,
    "deletable": true,
    "editable": true,
    "scrolled": true
   },
   "outputs": [
    {
     "name": "stdout",
     "output_type": "stream",
     "text": [
      "loaded imports\n"
     ]
    }
   ],
   "source": [
    "# imports\n",
    "import pandas as pd\n",
    "import numpy as np\n",
    "\n",
    "import os\n",
    "from os import listdir\n",
    "from os.path import isfile, join\n",
    "\n",
    "import keras\n",
    "import joblib\n",
    "\n",
    "from sklearn.svm import SVC\n",
    "import cv2\n",
    "from matplotlib import pyplot as plt\n",
    "print \"loaded imports\""
   ]
  },
  {
   "cell_type": "code",
   "execution_count": 23,
   "metadata": {
    "collapsed": false,
    "deletable": true,
    "editable": true,
    "scrolled": false
   },
   "outputs": [
    {
     "name": "stdout",
     "output_type": "stream",
     "text": [
      "ALB\n",
      "BET\n",
      "DOL\n",
      "LAG\n",
      "OTHER\n",
      "SHARK\n",
      "YFT\n",
      "finished\n"
     ]
    }
   ],
   "source": [
    "#load images\n",
    "folders = [d for d in listdir(\"./train/\") if not isfile(join(\"./train/\", d)) and d not in [\"cropped\", \"NoF\"]]\n",
    "\n",
    "training_data = np.array([])\n",
    "training_labels = np.array([])\n",
    "\n",
    "for category in folders:\n",
    "    print category\n",
    "    images = [file for file in listdir(\"./train/\"+category)]\n",
    "    np.random.shuffle(images)\n",
    "    images = images[0:100] #limit number of images used\n",
    "    \n",
    "    for image in images:\n",
    "        hog = cv2.HOGDescriptor()\n",
    "        img = cv2.imread(\"./train/\" + category + \"/\" + image, 0)\n",
    "        img = cv2.resize(img, (400, 250))\n",
    "        h = hog.compute(img)\n",
    "        h = h.astype(np.float64)\n",
    "        np.random.shuffle(h)\n",
    "        h = h[0:100,:] # trim vector so all are same size\n",
    "        vector_data = h.reshape(1,100) \n",
    "        \n",
    "        if len(training_data) == 0:\n",
    "            training_data = np.append(training_data, vector_data)\n",
    "            training_data = training_data.reshape(1,100)\n",
    "        else:\n",
    "            training_data   = np.concatenate((training_data, vector_data), axis=0)\n",
    "        training_labels = np.append(training_labels,category)\n",
    "        \n",
    "print \"finished\""
   ]
  },
  {
   "cell_type": "code",
   "execution_count": 24,
   "metadata": {
    "collapsed": false,
    "deletable": true,
    "editable": true
   },
   "outputs": [
    {
     "data": {
      "text/plain": [
       "SVC(C=1.0, cache_size=200, class_weight=None, coef0=0.0,\n",
       "  decision_function_shape=None, degree=3, gamma='auto', kernel='linear',\n",
       "  max_iter=-1, probability=True, random_state=None, shrinking=True,\n",
       "  tol=0.001, verbose=False)"
      ]
     },
     "execution_count": 24,
     "metadata": {},
     "output_type": "execute_result"
    }
   ],
   "source": [
    "X = training_data\n",
    "y = training_labels\n",
    "y = y.reshape(y.shape[0],)\n",
    "\n",
    "# Create and fit the SVM\n",
    "# Fitting should take a few minutes\n",
    "clf = SVC(kernel='linear', C = 1.0, probability=True)\n",
    "clf.fit(X,y)"
   ]
  },
  {
   "cell_type": "code",
   "execution_count": 1,
   "metadata": {
    "collapsed": false,
    "deletable": true,
    "editable": true
   },
   "outputs": [
    {
     "ename": "NameError",
     "evalue": "name 'cv2' is not defined",
     "output_type": "error",
     "traceback": [
      "\u001b[0;31m---------------------------------------------------------------------------\u001b[0m",
      "\u001b[0;31mNameError\u001b[0m                                 Traceback (most recent call last)",
      "\u001b[0;32m<ipython-input-1-cfd5be7300ce>\u001b[0m in \u001b[0;36m<module>\u001b[0;34m()\u001b[0m\n\u001b[0;32m----> 1\u001b[0;31m \u001b[0mfishPredict\u001b[0m \u001b[0;34m=\u001b[0m \u001b[0mcv2\u001b[0m\u001b[0;34m.\u001b[0m\u001b[0mimread\u001b[0m\u001b[0;34m(\u001b[0m\u001b[0;34m'./train/LAG/img_00657.jpg'\u001b[0m\u001b[0;34m,\u001b[0m \u001b[0;36m0\u001b[0m\u001b[0;34m)\u001b[0m  \u001b[0;31m# Correct is LAG --> Class 3\u001b[0m\u001b[0;34m\u001b[0m\u001b[0m\n\u001b[0m\u001b[1;32m      2\u001b[0m \u001b[0mhog\u001b[0m \u001b[0;34m=\u001b[0m \u001b[0mcv2\u001b[0m\u001b[0;34m.\u001b[0m\u001b[0mHOGDescriptor\u001b[0m\u001b[0;34m(\u001b[0m\u001b[0;34m)\u001b[0m\u001b[0;34m\u001b[0m\u001b[0m\n\u001b[1;32m      3\u001b[0m \u001b[0mfishPredict\u001b[0m \u001b[0;34m=\u001b[0m \u001b[0mcv2\u001b[0m\u001b[0;34m.\u001b[0m\u001b[0mresize\u001b[0m\u001b[0;34m(\u001b[0m\u001b[0mfishPredict\u001b[0m\u001b[0;34m,\u001b[0m \u001b[0;34m(\u001b[0m\u001b[0;36m400\u001b[0m\u001b[0;34m,\u001b[0m \u001b[0;36m250\u001b[0m\u001b[0;34m)\u001b[0m\u001b[0;34m)\u001b[0m\u001b[0;34m\u001b[0m\u001b[0m\n\u001b[1;32m      4\u001b[0m \u001b[0mh\u001b[0m \u001b[0;34m=\u001b[0m \u001b[0mhog\u001b[0m\u001b[0;34m.\u001b[0m\u001b[0mcompute\u001b[0m\u001b[0;34m(\u001b[0m\u001b[0mimg\u001b[0m\u001b[0;34m)\u001b[0m\u001b[0;34m\u001b[0m\u001b[0m\n\u001b[1;32m      5\u001b[0m \u001b[0mh\u001b[0m \u001b[0;34m=\u001b[0m \u001b[0mh\u001b[0m\u001b[0;34m.\u001b[0m\u001b[0mastype\u001b[0m\u001b[0;34m(\u001b[0m\u001b[0mnp\u001b[0m\u001b[0;34m.\u001b[0m\u001b[0mfloat64\u001b[0m\u001b[0;34m)\u001b[0m\u001b[0;34m\u001b[0m\u001b[0m\n",
      "\u001b[0;31mNameError\u001b[0m: name 'cv2' is not defined"
     ]
    }
   ],
   "source": [
    "fishPredict = cv2.imread('./train/LAG/img_00657.jpg', 0)  # Correct is LAG --> Class 3\n",
    "hog = cv2.HOGDescriptor()\n",
    "fishPredict = cv2.resize(fishPredict, (400, 250))\n",
    "h = hog.compute(img)\n",
    "h = h.astype(np.float64)\n",
    "np.random.shuffle(h)\n",
    "h = h[0:100,:] # trim vector so all are same size\n",
    "vector_data = h.reshape(1,100) \n",
    "\n",
    "print(\"Linear SVM Prediction:\")\n",
    "print(clf.predict(vector_data))        # prints highest probability class, only\n",
    "print(clf.predict_proba(vector_data))\n",
    "\n",
    "joblib.dump(clf, 'fishy_svm.pkl')\n",
    "    # to load SVM model, use:  clf = joblib.load('filename.pkl')"
   ]
  },
  {
   "cell_type": "code",
   "execution_count": null,
   "metadata": {
    "collapsed": true,
    "deletable": true,
    "editable": true
   },
   "outputs": [],
   "source": []
  }
 ],
 "metadata": {
  "kernelspec": {
   "display_name": "Python 2",
   "language": "python",
   "name": "python2"
  },
  "language_info": {
   "codemirror_mode": {
    "name": "ipython",
    "version": 2
   },
   "file_extension": ".py",
   "mimetype": "text/x-python",
   "name": "python",
   "nbconvert_exporter": "python",
   "pygments_lexer": "ipython2",
   "version": "2.7.13"
  }
 },
 "nbformat": 4,
 "nbformat_minor": 2
}
